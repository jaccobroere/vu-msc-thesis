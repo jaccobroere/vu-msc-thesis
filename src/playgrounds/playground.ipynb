{
 "cells": [
  {
   "attachments": {},
   "cell_type": "markdown",
   "metadata": {},
   "source": [
    "### Playground"
   ]
  },
  {
   "cell_type": "code",
   "execution_count": 32,
   "metadata": {},
   "outputs": [],
   "source": [
    "import pandas as pd\n",
    "import os\n",
    "import numpy as np\n",
    "import scienceplots\n",
    "import matplotlib.pyplot as plt\n",
    "plt.style.use(\"science\")"
   ]
  },
  {
   "cell_type": "code",
   "execution_count": 52,
   "metadata": {},
   "outputs": [],
   "source": [
    "design = \"designB_T1000_p25\"\n",
    "path = \"out/simulation/fit\"\n",
    "\n",
    "directory = os.path.join(path, design)\n",
    "\n",
    "dfs = []\n",
    "\n",
    "for uuid in os.listdir(directory):\n",
    "    if os.path.isdir(os.path.join(directory, uuid)):\n",
    "        for file in os.listdir(os.path.join(directory, uuid)):\n",
    "            if file == \"y_true.csv\":\n",
    "                dfs.append(pd.read_csv(os.path.join(directory, uuid, file), header=0))"
   ]
  }
 ],
 "metadata": {
  "kernelspec": {
   "display_name": "venv",
   "language": "python",
   "name": "python3"
  },
  "language_info": {
   "codemirror_mode": {
    "name": "ipython",
    "version": 3
   },
   "file_extension": ".py",
   "mimetype": "text/x-python",
   "name": "python",
   "nbconvert_exporter": "python",
   "pygments_lexer": "ipython3",
   "version": "3.10.9"
  },
  "orig_nbformat": 4
 },
 "nbformat": 4,
 "nbformat_minor": 2
}
