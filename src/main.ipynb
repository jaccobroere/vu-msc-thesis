{
 "cells": [
  {
   "attachments": {},
   "cell_type": "markdown",
   "metadata": {},
   "source": [
    "# MSc Thesis: Main Notebook"
   ]
  },
  {
   "cell_type": "code",
   "execution_count": 57,
   "metadata": {},
   "outputs": [
    {
     "data": {
      "text/plain": [
       "<PyCall.jlwrap is_edge_case>"
      ]
     },
     "execution_count": 57,
     "metadata": {},
     "output_type": "execute_result"
    }
   ],
   "source": [
    "# Import relevant libraries\n",
    "import igraph as ig\n",
    "from julia import Main # Julia API\n",
    "Main.eval('include(\"src/utils.jl\")') # Import utils.jl"
   ]
  },
  {
   "cell_type": "code",
   "execution_count": 58,
   "metadata": {},
   "outputs": [
    {
     "data": {
      "text/plain": [
       "33"
      ]
     },
     "execution_count": 58,
     "metadata": {},
     "output_type": "execute_result"
    }
   ],
   "source": [
    "Main.total_number_nonzero_elements(5, 2)"
   ]
  },
  {
   "cell_type": "code",
   "execution_count": 59,
   "metadata": {},
   "outputs": [],
   "source": [
    "def create_edge(i: int, p: int, h: int) -> tuple:\n",
    "    if Main.is_edge_case(i, p, h):\n",
    "        return None \n",
    "    \n",
    "    row_num = Main.row_number_of_element(i, p, h)\n",
    "    n_elements_next_row = Main.nonzero_elements_per_equation(p, h, row_num + 1)\n",
    "    \n",
    "    if Main.belongs_to_A(i, p, h):\n",
    "        edge = (i, i + n_elements_next_row + 1)\n",
    "    else:\n",
    "        edge = (i, i + n_elements_next_row + 2)\n",
    "        \n",
    "    return edge\n",
    "\n",
    "def create_gsplash_graph(p, h):\n",
    "    # Define the maximum numbers of vertices\n",
    "    M = Main.total_number_nonzero_elements(p, h)\n",
    "    graph = ig.Graph()\n",
    "    \n",
    "    # Add vertices\n",
    "    graph.add_vertices([i for i in range(1, M + 1)])\n",
    "    \n",
    "    # Add edges\n",
    "    edges = [create_edge(i, p, h) for i in range(1, M + 1)]\n",
    "    graph.add_edges(edges)\n",
    "    \n",
    "    return graph"
   ]
  },
  {
   "cell_type": "code",
   "execution_count": 60,
   "metadata": {},
   "outputs": [
    {
     "data": {
      "text/plain": [
       "(32, 52)"
      ]
     },
     "execution_count": 60,
     "metadata": {},
     "output_type": "execute_result"
    }
   ],
   "source": [
    "create_edge(32, 7, 3)"
   ]
  },
  {
   "cell_type": "code",
   "execution_count": 55,
   "metadata": {},
   "outputs": [
    {
     "ename": "TypeError",
     "evalue": "iterable must return pairs of integers or strings",
     "output_type": "error",
     "traceback": [
      "\u001b[0;31m---------------------------------------------------------------------------\u001b[0m",
      "\u001b[0;31mTypeError\u001b[0m                                 Traceback (most recent call last)",
      "Cell \u001b[0;32mIn[55], line 1\u001b[0m\n\u001b[0;32m----> 1\u001b[0m g \u001b[39m=\u001b[39m create_gsplash_graph(\u001b[39m7\u001b[39;49m, \u001b[39m3\u001b[39;49m)\n\u001b[1;32m      3\u001b[0m \u001b[39mprint\u001b[39m(g)\n\u001b[1;32m      4\u001b[0m \u001b[39mprint\u001b[39m(g\u001b[39m.\u001b[39mvs[\u001b[39m\"\u001b[39m\u001b[39mname\u001b[39m\u001b[39m\"\u001b[39m])\n",
      "Cell \u001b[0;32mIn[54], line 25\u001b[0m, in \u001b[0;36mcreate_gsplash_graph\u001b[0;34m(p, h)\u001b[0m\n\u001b[1;32m     23\u001b[0m \u001b[39m# Add edges\u001b[39;00m\n\u001b[1;32m     24\u001b[0m edges \u001b[39m=\u001b[39m [create_edge(i, p, h) \u001b[39mfor\u001b[39;00m i \u001b[39min\u001b[39;00m \u001b[39mrange\u001b[39m(\u001b[39m1\u001b[39m, M \u001b[39m+\u001b[39m \u001b[39m1\u001b[39m)]\n\u001b[0;32m---> 25\u001b[0m graph\u001b[39m.\u001b[39;49madd_edges(edges)\n\u001b[1;32m     27\u001b[0m \u001b[39mreturn\u001b[39;00m graph\n",
      "File \u001b[0;32m~/Documents/repos/vu-msc-thesis/venv/lib/python3.10/site-packages/igraph/basic.py:41\u001b[0m, in \u001b[0;36m_add_edges\u001b[0;34m(graph, es, attributes)\u001b[0m\n\u001b[1;32m     31\u001b[0m \u001b[39m\u001b[39m\u001b[39m\"\"\"Adds some edges to the graph.\u001b[39;00m\n\u001b[1;32m     32\u001b[0m \n\u001b[1;32m     33\u001b[0m \u001b[39m@param es: the list of edges to be added. Every edge is represented\u001b[39;00m\n\u001b[0;32m   (...)\u001b[0m\n\u001b[1;32m     38\u001b[0m \u001b[39m  edges.\u001b[39;00m\n\u001b[1;32m     39\u001b[0m \u001b[39m\"\"\"\u001b[39;00m\n\u001b[1;32m     40\u001b[0m eid \u001b[39m=\u001b[39m graph\u001b[39m.\u001b[39mecount()\n\u001b[0;32m---> 41\u001b[0m res \u001b[39m=\u001b[39m GraphBase\u001b[39m.\u001b[39;49madd_edges(graph, es)\n\u001b[1;32m     42\u001b[0m n \u001b[39m=\u001b[39m graph\u001b[39m.\u001b[39mecount() \u001b[39m-\u001b[39m eid\n\u001b[1;32m     43\u001b[0m \u001b[39mif\u001b[39;00m (attributes \u001b[39mis\u001b[39;00m \u001b[39mnot\u001b[39;00m \u001b[39mNone\u001b[39;00m) \u001b[39mand\u001b[39;00m (n \u001b[39m>\u001b[39m \u001b[39m0\u001b[39m):\n",
      "\u001b[0;31mTypeError\u001b[0m: iterable must return pairs of integers or strings"
     ]
    }
   ],
   "source": [
    "g = create_gsplash_graph(7, 3)\n",
    "\n",
    "print(g)\n",
    "print(g.vs[\"name\"])"
   ]
  },
  {
   "cell_type": "code",
   "execution_count": 50,
   "metadata": {},
   "outputs": [
    {
     "data": {
      "text/plain": [
       "True"
      ]
     },
     "execution_count": 50,
     "metadata": {},
     "output_type": "execute_result"
    }
   ],
   "source": [
    "Main.is_edge_case(33, 7, 3)"
   ]
  },
  {
   "cell_type": "code",
   "execution_count": null,
   "metadata": {},
   "outputs": [],
   "source": []
  }
 ],
 "metadata": {
  "kernelspec": {
   "display_name": "Python 3",
   "language": "python",
   "name": "python3"
  },
  "language_info": {
   "codemirror_mode": {
    "name": "ipython",
    "version": 3
   },
   "file_extension": ".py",
   "mimetype": "text/x-python",
   "name": "python",
   "nbconvert_exporter": "python",
   "pygments_lexer": "ipython3",
   "version": "3.10.9"
  },
  "orig_nbformat": 4,
  "vscode": {
   "interpreter": {
    "hash": "46e573f4ebc436181a118705a3fb9e6d9f8abeed2d25490e972ab9fff03500a0"
   }
  }
 },
 "nbformat": 4,
 "nbformat_minor": 2
}
