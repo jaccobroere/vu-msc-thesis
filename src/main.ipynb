{
 "cells": [
  {
   "attachments": {},
   "cell_type": "markdown",
   "metadata": {},
   "source": [
    "# MSc Thesis: Main Notebook"
   ]
  },
  {
   "cell_type": "code",
   "execution_count": 1,
   "metadata": {},
   "outputs": [],
   "source": [
    "# !python -m pip install igraph julia\n",
    "# import julia\n",
    "# julia.install()"
   ]
  },
  {
   "cell_type": "code",
   "execution_count": 2,
   "metadata": {},
   "outputs": [
    {
     "data": {
      "text/plain": [
       "<PyCall.jlwrap is_edge_case>"
      ]
     },
     "execution_count": 2,
     "metadata": {},
     "output_type": "execute_result"
    }
   ],
   "source": [
    "# Import relevant libraries\n",
    "import igraph as ig\n",
    "from julia import Main # Julia API\n",
    "from simulation.construct_graph import create_edge, create_gsplash_graph, save_graph_as_gml\n",
    "Main.eval('include(\"src/simulation/utils.jl\")') # Import utils.jl"
   ]
  },
  {
   "cell_type": "code",
   "execution_count": 3,
   "metadata": {},
   "outputs": [],
   "source": [
    "g = create_gsplash_graph(7, 3)"
   ]
  },
  {
   "cell_type": "code",
   "execution_count": 4,
   "metadata": {},
   "outputs": [
    {
     "name": "stdout",
     "output_type": "stream",
     "text": [
      "IGRAPH UN-- 67 54 --\n",
      "+ attr: name (v)\n",
      "+ edges (vertex names):\n",
      "1--9, 2--10, 3--11, 4--13, 5--14, 6--15, 7--16, 8--18, 9--19, 10--20, 11--21,\n",
      "12--23, 13--24, 14--25, 15--26, 16--27, 17--29, 18--30, 19--31, 20--32,\n",
      "21--33, 22--35, 23--36, 24--37, 25--38, 26--39, 27--40, 28--41, 29--42,\n",
      "30--43, 31--44, 32--45, 34--46, 35--47, 36--48, 37--49, 38--50, 39--51,\n",
      "41--52, 42--53, 43--54, 44--55, 46--56, 47--57, 48--58, 49--59, 50--60,\n",
      "52--61, 53--62, 54--63, 56--64, 57--65, 58--66, 59--67\n"
     ]
    }
   ],
   "source": [
    "print(g)"
   ]
  },
  {
   "cell_type": "code",
   "execution_count": null,
   "metadata": {},
   "outputs": [],
   "source": []
  }
 ],
 "metadata": {
  "kernelspec": {
   "display_name": "Python 3",
   "language": "python",
   "name": "python3"
  },
  "language_info": {
   "codemirror_mode": {
    "name": "ipython",
    "version": 3
   },
   "file_extension": ".py",
   "mimetype": "text/x-python",
   "name": "python",
   "nbconvert_exporter": "python",
   "pygments_lexer": "ipython3",
   "version": "3.10.9"
  },
  "orig_nbformat": 4,
  "vscode": {
   "interpreter": {
    "hash": "46e573f4ebc436181a118705a3fb9e6d9f8abeed2d25490e972ab9fff03500a0"
   }
  }
 },
 "nbformat": 4,
 "nbformat_minor": 2
}
