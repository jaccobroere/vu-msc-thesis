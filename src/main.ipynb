{
 "cells": [
  {
   "attachments": {},
   "cell_type": "markdown",
   "metadata": {},
   "source": [
    "# MSc Thesis: Main Notebook"
   ]
  },
  {
   "cell_type": "code",
   "execution_count": 4,
   "metadata": {},
   "outputs": [],
   "source": [
    "# !python -m pip install igraph julia\n",
    "# import julia\n",
    "# julia.install()"
   ]
  },
  {
   "cell_type": "code",
   "execution_count": 3,
   "metadata": {},
   "outputs": [
    {
     "data": {
      "text/plain": [
       "<PyCall.jlwrap is_edge_case>"
      ]
     },
     "execution_count": 3,
     "metadata": {},
     "output_type": "execute_result"
    }
   ],
   "source": [
    "# Import relevant libraries\n",
    "import igraph as ig\n",
    "from julia import Main # Julia API\n",
    "from construct_graph import create_edge, create_gsplash_graph, save_graph_as_gml\n",
    "Main.eval('include(\"src/utils.jl\")') # Import utils.jl"
   ]
  },
  {
   "cell_type": "code",
   "execution_count": 6,
   "metadata": {},
   "outputs": [
    {
     "name": "stdout",
     "output_type": "stream",
     "text": [
      "IGRAPH UN-- 78 69 --\n",
      "+ attr: name (v)\n",
      "+ edges (vertex names):\n",
      "1--7, 2--8, 3--10, 4--11, 5--12, 6--14, 7--15, 8--16, 9--18, 10--19, 11--20,\n",
      "12--21, 13--22, 14--23, 15--24, 16--25, 17--26, 18--27, 19--28, 20--29,\n",
      "21--30, 22--31, 23--32, 24--33, 25--34, 26--35, 27--36, 28--37, 29--38,\n",
      "30--39, 31--40, 32--41, 33--42, 34--43, 35--44, 36--45, 37--46, 38--47,\n",
      "39--48, 40--49, 41--50, 42--51, 43--52, 44--53, 45--54, 46--55, 47--56,\n",
      "48--57, 49--58, 50--59, 51--60, 52--61, 53--62, 54--63, 55--64, 56--65,\n",
      "57--66, 58--67, 59--68, 60--69, 62--70, 63--71, 64--72, 65--73, 67--74,\n",
      "68--75, 70--76, 71--77, 72--78\n"
     ]
    }
   ],
   "source": [
    "g = create_gsplash_graph(10, 2)\n",
    "save_graph_as_gml(g, 10, 2, \"test\")\n",
    "print(g)"
   ]
  }
 ],
 "metadata": {
  "kernelspec": {
   "display_name": "Python 3",
   "language": "python",
   "name": "python3"
  },
  "language_info": {
   "codemirror_mode": {
    "name": "ipython",
    "version": 3
   },
   "file_extension": ".py",
   "mimetype": "text/x-python",
   "name": "python",
   "nbconvert_exporter": "python",
   "pygments_lexer": "ipython3",
   "version": "3.10.9"
  },
  "orig_nbformat": 4,
  "vscode": {
   "interpreter": {
    "hash": "46e573f4ebc436181a118705a3fb9e6d9f8abeed2d25490e972ab9fff03500a0"
   }
  }
 },
 "nbformat": 4,
 "nbformat_minor": 2
}
