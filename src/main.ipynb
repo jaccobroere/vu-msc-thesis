{
 "cells": [
  {
   "attachments": {},
   "cell_type": "markdown",
   "metadata": {},
   "source": [
    "# MSc Thesis: Main Notebook"
   ]
  },
  {
   "cell_type": "code",
   "execution_count": 6,
   "metadata": {},
   "outputs": [],
   "source": [
    "# !python -m pip install igraph julia\n",
    "# import julia\n",
    "# julia.install()"
   ]
  },
  {
   "cell_type": "code",
   "execution_count": 7,
   "metadata": {},
   "outputs": [
    {
     "data": {
      "text/plain": [
       "<PyCall.jlwrap is_edge_case>"
      ]
     },
     "execution_count": 7,
     "metadata": {},
     "output_type": "execute_result"
    }
   ],
   "source": [
    "# Import relevant libraries\n",
    "import igraph as ig\n",
    "from julia import Main # Julia API\n",
    "Main.eval('include(\"src/utils.jl\")') # Import utils.jl"
   ]
  },
  {
   "cell_type": "code",
   "execution_count": 88,
   "metadata": {},
   "outputs": [],
   "source": [
    "def create_edge(i: int, p: int, h: int) -> tuple:\n",
    "    if Main.is_edge_case(i, p, h):\n",
    "        return None \n",
    "    \n",
    "    row_num = Main.row_number_of_element(i, p, h)\n",
    "    n_elements_this_row = Main.nonzero_elements_per_equation(row_num, p, h)\n",
    "    delta_elements = Main.nonzero_elements_per_equation(row_num + 1, p, h) - n_elements_this_row\n",
    "    \n",
    "    if Main.belongs_to_A(i, p, h):\n",
    "        if delta_elements > 0:\n",
    "            edge = (i, i + n_elements_this_row + delta_elements - 1)\n",
    "        elif delta_elements == 0:\n",
    "            edge = (i, i + n_elements_this_row + delta_elements)\n",
    "        else: # delta_elements < 0\n",
    "            edge = (i, i + n_elements_this_row + delta_elements + 2)\n",
    "    else: # Belongs to B\n",
    "        if delta_elements >= 0:\n",
    "            edge = (i, i + n_elements_this_row + delta_elements)\n",
    "        else: # delta_elements < 0\n",
    "            edge = (i, i + n_elements_this_row + delta_elements + 1)\n",
    "        \n",
    "    return edge[0] - 1, edge[1] - 1\n",
    "\n",
    "def create_gsplash_graph(p, h):\n",
    "    # Define the maximum numbers of vertices\n",
    "    M = Main.total_number_nonzero_elements(p, h)\n",
    "    graph = ig.Graph()\n",
    "    \n",
    "    # Add vertices\n",
    "    graph.add_vertices([i for i in range(1, M + 1)])\n",
    "    \n",
    "    # Add edges\n",
    "    edges = [create_edge(i, p, h) for i in range(1, M + 1)]\n",
    "    edges = [edge for edge in edges if edge is not None]\n",
    "    graph.add_edges(edges)\n",
    "    \n",
    "    return graph\n",
    "\n",
    "def save_graph_as_gml(graph, p, h):\n",
    "    graph.write(f\"out/gsplash_graph_p{p}_h{h}.graphml\")"
   ]
  },
  {
   "cell_type": "code",
   "execution_count": 89,
   "metadata": {},
   "outputs": [
    {
     "name": "stdout",
     "output_type": "stream",
     "text": [
      "IGRAPH UN-- 51 42 --\n",
      "+ attr: name (v)\n",
      "+ edges (vertex names):\n",
      "1--7, 2--8, 3--10, 4--11, 5--12, 6--14, 7--15, 8--16, 9--18, 10--19, 11--20,\n",
      "12--21, 13--22, 14--23, 15--24, 16--25, 17--26, 18--27, 19--28, 20--29,\n",
      "21--30, 22--31, 23--32, 24--33, 25--34, 26--35, 27--36, 28--37, 29--38,\n",
      "30--39, 31--40, 32--41, 33--42, 35--43, 36--44, 37--45, 38--46, 40--47,\n",
      "41--48, 43--49, 44--50, 45--51\n"
     ]
    }
   ],
   "source": [
    "g = create_gsplash_graph(7, 2)\n",
    "save_graph_as_gml(g, 7, 2)\n",
    "print(g)"
   ]
  },
  {
   "cell_type": "code",
   "execution_count": 55,
   "metadata": {},
   "outputs": [],
   "source": [
    "M = Main.total_number_nonzero_elements(p, h)\n",
    "graph = ig.Graph()\n",
    "\n",
    "# Add vertices\n",
    "graph.add_vertices([i for i in range(1, M + 1)])\n",
    "\n",
    "# Add edges\n",
    "edges = [create_edge(i, p, h) for i in range(1, M + 1)]"
   ]
  },
  {
   "cell_type": "code",
   "execution_count": 56,
   "metadata": {},
   "outputs": [
    {
     "data": {
      "text/plain": [
       "[(0, 10),\n",
       " (1, 11),\n",
       " (2, 12),\n",
       " (3, 12),\n",
       " (4, 13),\n",
       " (5, 14),\n",
       " (6, 15),\n",
       " (7, 19),\n",
       " (8, 20),\n",
       " (9, 21),\n",
       " (10, 22),\n",
       " (11, 22),\n",
       " (12, 23),\n",
       " (13, 24),\n",
       " (14, 25),\n",
       " (15, 26),\n",
       " (16, 30),\n",
       " (17, 31),\n",
       " (18, 32),\n",
       " (19, 33),\n",
       " (20, 34),\n",
       " (21, 34),\n",
       " (22, 35),\n",
       " (23, 36),\n",
       " (24, 37),\n",
       " (25, 38),\n",
       " (26, 39),\n",
       " (27, 40),\n",
       " (28, 41),\n",
       " (29, 42),\n",
       " (30, 43),\n",
       " (31, 44),\n",
       " None,\n",
       " (33, 45),\n",
       " (34, 46),\n",
       " (35, 47),\n",
       " (36, 48),\n",
       " (37, 49),\n",
       " (38, 50),\n",
       " None,\n",
       " (40, 51),\n",
       " (41, 52),\n",
       " (42, 53),\n",
       " (43, 54),\n",
       " None,\n",
       " (45, 55),\n",
       " (46, 56),\n",
       " (47, 57),\n",
       " (48, 58),\n",
       " (49, 59),\n",
       " None,\n",
       " (51, 60),\n",
       " (52, 61),\n",
       " (53, 62),\n",
       " None,\n",
       " (55, 63),\n",
       " (56, 64),\n",
       " (57, 65),\n",
       " (58, 66),\n",
       " None,\n",
       " None,\n",
       " None,\n",
       " None,\n",
       " None,\n",
       " None,\n",
       " None,\n",
       " None]"
      ]
     },
     "execution_count": 56,
     "metadata": {},
     "output_type": "execute_result"
    }
   ],
   "source": [
    "edges"
   ]
  }
 ],
 "metadata": {
  "kernelspec": {
   "display_name": "Python 3",
   "language": "python",
   "name": "python3"
  },
  "language_info": {
   "codemirror_mode": {
    "name": "ipython",
    "version": 3
   },
   "file_extension": ".py",
   "mimetype": "text/x-python",
   "name": "python",
   "nbconvert_exporter": "python",
   "pygments_lexer": "ipython3",
   "version": "3.11.2"
  },
  "orig_nbformat": 4,
  "vscode": {
   "interpreter": {
    "hash": "46e573f4ebc436181a118705a3fb9e6d9f8abeed2d25490e972ab9fff03500a0"
   }
  }
 },
 "nbformat": 4,
 "nbformat_minor": 2
}
