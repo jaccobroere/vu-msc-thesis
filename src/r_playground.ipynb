{
 "cells": [
  {
   "attachments": {},
   "cell_type": "markdown",
   "metadata": {},
   "source": [
    "# MSc Thesis: Playground notebook"
   ]
  },
  {
   "cell_type": "code",
   "execution_count": 1,
   "metadata": {
    "vscode": {
     "languageId": "r"
    }
   },
   "outputs": [
    {
     "name": "stderr",
     "output_type": "stream",
     "text": [
      "Warning message in install.packages(\"/Users/jacco/Documents/repos/vu-msc-thesis/splash_1.0.tar.gz\", :\n",
      "“installation of package ‘/Users/jacco/Documents/repos/vu-msc-thesis/splash_1.0.tar.gz’ had non-zero exit status”\n"
     ]
    }
   ],
   "source": [
    "# setwd(\"/Users/jacco/Documents/repos/vu-msc-thesis/\")\n",
    "\n",
    "# Install packages\n",
    "install.packages(\"/Users/jacco/Documents/repos/vu-msc-thesis/splash_1.0.tar.gz\", repos = NULL, type = \"source\")"
   ]
  },
  {
   "cell_type": "code",
   "execution_count": 2,
   "metadata": {
    "vscode": {
     "languageId": "r"
    }
   },
   "outputs": [
    {
     "ename": "ERROR",
     "evalue": "Error in library(splash_1.0): there is no package called ‘splash_1.0’\n",
     "output_type": "error",
     "traceback": [
      "Error in library(splash_1.0): there is no package called ‘splash_1.0’\nTraceback:\n",
      "1. library(splash_1.0)"
     ]
    }
   ],
   "source": [
    "library(splash_1.0)"
   ]
  },
  {
   "cell_type": "code",
   "execution_count": 3,
   "metadata": {
    "vscode": {
     "languageId": "r"
    }
   },
   "outputs": [
    {
     "ename": "ERROR",
     "evalue": "Error in library(splash): there is no package called ‘splash’\n",
     "output_type": "error",
     "traceback": [
      "Error in library(splash): there is no package called ‘splash’\nTraceback:\n",
      "1. library(splash)"
     ]
    }
   ],
   "source": [
    "# This is an interacitve notebook for the language R\n",
    "# import packages\n",
    "library(dplyr)\n",
    "library(tidyr)\n",
    "library(data.table)\n",
    "library(magrittr)\n",
    "library(ConfigParser)\n",
    "library(splash)"
   ]
  },
  {
   "cell_type": "code",
   "execution_count": 18,
   "metadata": {
    "vscode": {
     "languageId": "r"
    }
   },
   "outputs": [
    {
     "data": {
      "text/html": [
       "'/Users/jacco/Documents/repos/vu-msc-thesis'"
      ],
      "text/latex": [
       "'/Users/jacco/Documents/repos/vu-msc-thesis'"
      ],
      "text/markdown": [
       "'/Users/jacco/Documents/repos/vu-msc-thesis'"
      ],
      "text/plain": [
       "[1] \"/Users/jacco/Documents/repos/vu-msc-thesis\""
      ]
     },
     "metadata": {},
     "output_type": "display_data"
    }
   ],
   "source": [
    "getwd()"
   ]
  },
  {
   "cell_type": "code",
   "execution_count": null,
   "metadata": {
    "vscode": {
     "languageId": "r"
    }
   },
   "outputs": [],
   "source": []
  }
 ],
 "metadata": {
  "kernelspec": {
   "display_name": "R",
   "language": "R",
   "name": "ir"
  },
  "language_info": {
   "codemirror_mode": "r",
   "file_extension": ".r",
   "mimetype": "text/x-r-source",
   "name": "R",
   "pygments_lexer": "r",
   "version": "4.2.3"
  },
  "orig_nbformat": 4,
  "vscode": {
   "interpreter": {
    "hash": "46e573f4ebc436181a118705a3fb9e6d9f8abeed2d25490e972ab9fff03500a0"
   }
  }
 },
 "nbformat": 4,
 "nbformat_minor": 2
}
