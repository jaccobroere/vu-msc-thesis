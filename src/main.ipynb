{
 "cells": [
  {
   "attachments": {},
   "cell_type": "markdown",
   "metadata": {},
   "source": [
    "# MSc Thesis: Main Notebook"
   ]
  },
  {
   "cell_type": "code",
   "execution_count": 4,
   "metadata": {},
   "outputs": [],
   "source": [
    "# !python -m pip install igraph julia\n",
    "# import julia\n",
    "# julia.install()"
   ]
  },
  {
   "cell_type": "code",
   "execution_count": 3,
   "metadata": {},
   "outputs": [
    {
     "data": {
      "text/plain": [
       "<PyCall.jlwrap is_edge_case>"
      ]
     },
     "execution_count": 3,
     "metadata": {},
     "output_type": "execute_result"
    }
   ],
   "source": [
    "# Import relevant libraries\n",
    "import igraph as ig\n",
    "from julia import Main # Julia API\n",
    "from construct_graph import create_edge, create_gsplash_graph, save_graph_as_gml\n",
    "Main.eval('include(\"src/utils.jl\")') # Import utils.jl"
   ]
  },
  {
   "cell_type": "code",
   "execution_count": 6,
   "metadata": {},
   "outputs": [
    {
     "name": "stdout",
     "output_type": "stream",
     "text": [
      "IGRAPH UN-- 78 69 --\n",
      "+ attr: name (v)\n",
      "+ edges (vertex names):\n",
      "1--7, 2--8, 3--10, 4--11, 5--12, 6--14, 7--15, 8--16, 9--18, 10--19, 11--20,\n",
      "12--21, 13--22, 14--23, 15--24, 16--25, 17--26, 18--27, 19--28, 20--29,\n",
      "21--30, 22--31, 23--32, 24--33, 25--34, 26--35, 27--36, 28--37, 29--38,\n",
      "30--39, 31--40, 32--41, 33--42, 34--43, 35--44, 36--45, 37--46, 38--47,\n",
      "39--48, 40--49, 41--50, 42--51, 43--52, 44--53, 45--54, 46--55, 47--56,\n",
      "48--57, 49--58, 50--59, 51--60, 52--61, 53--62, 54--63, 55--64, 56--65,\n",
      "57--66, 58--67, 59--68, 60--69, 62--70, 63--71, 64--72, 65--73, 67--74,\n",
      "68--75, 70--76, 71--77, 72--78\n"
     ]
    }
   ],
   "source": [
    "g = create_gsplash_graph(10, 2)\n",
    "save_graph_as_gml(g, 10, 2, \"test\")\n",
    "print(g)"
   ]
  },
  {
   "cell_type": "code",
   "execution_count": 55,
   "metadata": {},
   "outputs": [],
   "source": [
    "M = Main.total_number_nonzero_elements(p, h)\n",
    "graph = ig.Graph()\n",
    "\n",
    "# Add vertices\n",
    "graph.add_vertices([i for i in range(1, M + 1)])\n",
    "\n",
    "# Add edges\n",
    "edges = [create_edge(i, p, h) for i in range(1, M + 1)]"
   ]
  },
  {
   "cell_type": "code",
   "execution_count": 56,
   "metadata": {},
   "outputs": [
    {
     "data": {
      "text/plain": [
       "[(0, 10),\n",
       " (1, 11),\n",
       " (2, 12),\n",
       " (3, 12),\n",
       " (4, 13),\n",
       " (5, 14),\n",
       " (6, 15),\n",
       " (7, 19),\n",
       " (8, 20),\n",
       " (9, 21),\n",
       " (10, 22),\n",
       " (11, 22),\n",
       " (12, 23),\n",
       " (13, 24),\n",
       " (14, 25),\n",
       " (15, 26),\n",
       " (16, 30),\n",
       " (17, 31),\n",
       " (18, 32),\n",
       " (19, 33),\n",
       " (20, 34),\n",
       " (21, 34),\n",
       " (22, 35),\n",
       " (23, 36),\n",
       " (24, 37),\n",
       " (25, 38),\n",
       " (26, 39),\n",
       " (27, 40),\n",
       " (28, 41),\n",
       " (29, 42),\n",
       " (30, 43),\n",
       " (31, 44),\n",
       " None,\n",
       " (33, 45),\n",
       " (34, 46),\n",
       " (35, 47),\n",
       " (36, 48),\n",
       " (37, 49),\n",
       " (38, 50),\n",
       " None,\n",
       " (40, 51),\n",
       " (41, 52),\n",
       " (42, 53),\n",
       " (43, 54),\n",
       " None,\n",
       " (45, 55),\n",
       " (46, 56),\n",
       " (47, 57),\n",
       " (48, 58),\n",
       " (49, 59),\n",
       " None,\n",
       " (51, 60),\n",
       " (52, 61),\n",
       " (53, 62),\n",
       " None,\n",
       " (55, 63),\n",
       " (56, 64),\n",
       " (57, 65),\n",
       " (58, 66),\n",
       " None,\n",
       " None,\n",
       " None,\n",
       " None,\n",
       " None,\n",
       " None,\n",
       " None,\n",
       " None]"
      ]
     },
     "execution_count": 56,
     "metadata": {},
     "output_type": "execute_result"
    }
   ],
   "source": [
    "edges"
   ]
  }
 ],
 "metadata": {
  "kernelspec": {
   "display_name": "Python 3",
   "language": "python",
   "name": "python3"
  },
  "language_info": {
   "codemirror_mode": {
    "name": "ipython",
    "version": 3
   },
   "file_extension": ".py",
   "mimetype": "text/x-python",
   "name": "python",
   "nbconvert_exporter": "python",
   "pygments_lexer": "ipython3",
   "version": "3.11.2"
  },
  "orig_nbformat": 4,
  "vscode": {
   "interpreter": {
    "hash": "46e573f4ebc436181a118705a3fb9e6d9f8abeed2d25490e972ab9fff03500a0"
   }
  }
 },
 "nbformat": 4,
 "nbformat_minor": 2
}
