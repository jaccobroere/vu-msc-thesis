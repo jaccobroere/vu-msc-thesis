{
 "cells": [
  {
   "attachments": {},
   "cell_type": "markdown",
   "metadata": {},
   "source": [
    "# MSc Thesis: Main Notebook"
   ]
  },
  {
   "cell_type": "code",
   "execution_count": 47,
   "metadata": {},
   "outputs": [
    {
     "data": {
      "text/plain": [
       "<PyCall.jlwrap is_edge_case>"
      ]
     },
     "execution_count": 47,
     "metadata": {},
     "output_type": "execute_result"
    }
   ],
   "source": [
    "# Import relevant libraries\n",
    "import igraph as ig\n",
    "from julia import Main # Julia API\n",
    "Main.eval('include(\"src/utils.jl\")') # Import utils.jl"
   ]
  },
  {
   "cell_type": "code",
   "execution_count": 48,
   "metadata": {},
   "outputs": [
    {
     "data": {
      "text/plain": [
       "33"
      ]
     },
     "execution_count": 48,
     "metadata": {},
     "output_type": "execute_result"
    }
   ],
   "source": [
    "Main.total_number_nonzero_elements(5, 2)"
   ]
  },
  {
   "cell_type": "code",
   "execution_count": 51,
   "metadata": {},
   "outputs": [],
   "source": [
    "def number_of_vertices(p: int, h: int) -> int:\n",
    "    return Main.total_number_nonzero_elements(p, h)\n",
    "\n",
    "def number_of_elements_equation_i(i: int, p: int, h: int) -> int:\n",
    "    return Main.nonzero_elements_per_equation(p, h, i)\n",
    "\n",
    "def n_elem_i_A(i: int, p: int, h: int) -> int:\n",
    "    return Main.nonzero_elements_per_equation_A(p, h, i)\n",
    "\n",
    "def n_elem_i_B(i: int, p: int, h: int) -> int:\n",
    "    return Main.nonzero_elements_per_equation_B(p, h, i)\n",
    "\n",
    "def create_edge(i: int, p: int, h: int) -> tuple:\n",
    "    if Main.is_edge_case(i, p, h):\n",
    "        return None \n",
    "    \n",
    "    if Main.belongs_to_A(i, p, h):\n",
    "        j = Main.index_equation_i(p, h, i) + n_elem_i_A(i, p, h)\n",
    "        return (Main.index_equation_i(p, h, i), j)\n",
    "    else:\n",
    "        edge = \n",
    "    return (Main.index_equation_i(p, h, i), Main.index_equation_i(p, h, j))\n",
    "\n",
    "\n",
    "\n",
    "def create_gsplash_graph(p, h):\n",
    "    # Define the maximum numbers of vertices\n",
    "    M = number_of_vertices(p, h)\n",
    "    graph = ig.Graph()\n",
    "    graph.add_vertices([i for i in range(1, M + 1)])\n",
    "    \n",
    "    return graph\n",
    "\n",
    "def gsplash_edges(p, h):\n",
    "    edges = []\n",
    "    for i in range(1, number_of_vertices(p, h) + 1):\n",
    "        pass\n",
    "    return edges"
   ]
  },
  {
   "cell_type": "code",
   "execution_count": 42,
   "metadata": {},
   "outputs": [
    {
     "name": "stdout",
     "output_type": "stream",
     "text": [
      "IGRAPH UN-- 33 0 --\n",
      "+ attr: name (v)\n",
      "[1, 2, 3, 4, 5, 6, 7, 8, 9, 10, 11, 12, 13, 14, 15, 16, 17, 18, 19, 20, 21, 22, 23, 24, 25, 26, 27, 28, 29, 30, 31, 32, 33]\n"
     ]
    }
   ],
   "source": [
    "g = create_gsplash_graph(5, 2)\n",
    "\n",
    "print(g)\n",
    "print(g.vs[\"name\"])"
   ]
  },
  {
   "cell_type": "code",
   "execution_count": 50,
   "metadata": {},
   "outputs": [
    {
     "data": {
      "text/plain": [
       "True"
      ]
     },
     "execution_count": 50,
     "metadata": {},
     "output_type": "execute_result"
    }
   ],
   "source": [
    "Main.is_edge_case(33, 7, 3)"
   ]
  },
  {
   "cell_type": "code",
   "execution_count": null,
   "metadata": {},
   "outputs": [],
   "source": []
  }
 ],
 "metadata": {
  "kernelspec": {
   "display_name": "Python 3",
   "language": "python",
   "name": "python3"
  },
  "language_info": {
   "codemirror_mode": {
    "name": "ipython",
    "version": 3
   },
   "file_extension": ".py",
   "mimetype": "text/x-python",
   "name": "python",
   "nbconvert_exporter": "python",
   "pygments_lexer": "ipython3",
   "version": "3.10.9"
  },
  "orig_nbformat": 4,
  "vscode": {
   "interpreter": {
    "hash": "46e573f4ebc436181a118705a3fb9e6d9f8abeed2d25490e972ab9fff03500a0"
   }
  }
 },
 "nbformat": 4,
 "nbformat_minor": 2
}
